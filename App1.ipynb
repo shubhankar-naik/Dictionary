{
 "cells": [
  {
   "cell_type": "code",
   "execution_count": 4,
   "metadata": {},
   "outputs": [
    {
     "name": "stdout",
     "output_type": "stream",
     "text": [
      "Enter word: HITT\n",
      "Did you mean hit instead? Enter Y if yes , or N if no :Y\n",
      "To deal one or more blows with a swift movement with the hand or one instrument.\n",
      "A song that is very popular for a while.\n",
      "To give a blow by striking and make contact.\n",
      "To impact with another object, resulting in a change of direction and/or velocity of one or both objects.\n",
      "A record from a database that results from a given search query.\n",
      "Act or effect of hitting.\n",
      "To unlawfully and intentionally kill another human being.\n",
      "To hit or come into contact against something.\n",
      "To make a strategic, offensive, assault against an enemy, opponent, or a target.\n",
      "To affect or afflict suddenly, usually adversely (e.g. of bad weather or illness).\n"
     ]
    }
   ],
   "source": [
    "import json\n",
    "from difflib import get_close_matches\n",
    "data=json.load(open(\"data.json\"))\n",
    "\n",
    "def translate(word):\n",
    "    word=word.lower()\n",
    "    if word in data:\n",
    "        return data[word]\n",
    "    elif len(get_close_matches(word,data.keys()))>0:\n",
    "        yn = input(\"Did you mean %s instead? Enter Y if yes , or N if no :\" % get_close_matches(word,data.keys())[0])\n",
    "        if yn==\"Y\":\n",
    "            return data[get_close_matches(word,data.keys())[0]]\n",
    "        elif yn==\"N\":\n",
    "            return \"The word doesn't exist\"\n",
    "        else:\n",
    "            return \"We didn't understand your query\"\n",
    "    else:\n",
    "        return\"The word desn't exist. Please check it.\"\n",
    "\n",
    "word=input(\"Enter word: \")\n",
    "output=(translate(word)) \n",
    "if type(output)==list:\n",
    "    for item in output:\n",
    "        print(item)\n",
    "else:\n",
    "    print(output)"
   ]
  },
  {
   "cell_type": "code",
   "execution_count": null,
   "metadata": {},
   "outputs": [],
   "source": []
  }
 ],
 "metadata": {
  "kernelspec": {
   "display_name": "Python 3",
   "language": "python",
   "name": "python3"
  },
  "language_info": {
   "codemirror_mode": {
    "name": "ipython",
    "version": 3
   },
   "file_extension": ".py",
   "mimetype": "text/x-python",
   "name": "python",
   "nbconvert_exporter": "python",
   "pygments_lexer": "ipython3",
   "version": "3.7.1"
  }
 },
 "nbformat": 4,
 "nbformat_minor": 2
}
